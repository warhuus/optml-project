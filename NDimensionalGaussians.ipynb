{
 "cells": [
  {
   "cell_type": "code",
   "execution_count": 1,
   "metadata": {},
   "outputs": [],
   "source": [
    "import matplotlib as mpl\n",
    "import matplotlib.pyplot as plt\n",
    "import numpy as np\n",
    "import os\n",
    "import sklearn\n",
    "from sklearn.model_selection import RandomizedSearchCV, ShuffleSplit\n",
    "import seaborn as sns\n",
    "import sys\n",
    "import torch\n",
    "\n",
    "import warnings\n",
    "#warnings.filterwarnings('ignore')\n",
    "#warnings.simplefilter('ignore')"
   ]
  },
  {
   "cell_type": "code",
   "execution_count": 2,
   "metadata": {},
   "outputs": [],
   "source": [
    "from ZORO import benchmarkfunctions\n",
    "from ZORO import optimizers"
   ]
  },
  {
   "cell_type": "markdown",
   "metadata": {},
   "source": [
    "## Generate Data"
   ]
  },
  {
   "cell_type": "code",
   "execution_count": 3,
   "metadata": {},
   "outputs": [],
   "source": [
    "# Dimensionality of data -- we tweak this to run our experiments\n",
    "dim = 100             #10, 100, 1000, 10000\n",
    "informative = 100     # 1,  10,  100,  1000"
   ]
  },
  {
   "cell_type": "code",
   "execution_count": 4,
   "metadata": {},
   "outputs": [],
   "source": [
    "from sklearn.datasets import make_classification, make_blobs\n",
    "# Cluster of points normally distributed (std=1) about vertices\n",
    "# of an n_informative-dim hypercube with sides of length 2*class_sep\n",
    "\n",
    "# Features are ordered: n_informative, n_redundant, n_repeated, \n",
    "# then random noise\n",
    "def generate_samples(n_features, n_informative, n_samples=100):\n",
    "    \"\"\"\n",
    "    return make_blobs(\n",
    "        n_samples=n_samples,\n",
    "        n_features=n_features,\n",
    "        centers=2,\n",
    "        random_state=42\n",
    "        \n",
    "    )\n",
    "    \"\"\"\n",
    "    return make_classification(\n",
    "        n_samples=n_samples, \n",
    "        n_features=n_features, \n",
    "        n_informative=n_informative,\n",
    "        n_redundant=0, \n",
    "        n_repeated=0, \n",
    "        n_classes=2, \n",
    "        n_clusters_per_class=1, \n",
    "        flip_y=0.01, \n",
    "        class_sep=2, \n",
    "        random_state=42,\n",
    "        shuffle=False\n",
    "    )\n",
    "\n",
    "X, y = generate_samples(dim, informative)"
   ]
  },
  {
   "cell_type": "markdown",
   "metadata": {},
   "source": [
    "### Plot of Projection onto 2 Dimensions"
   ]
  },
  {
   "cell_type": "code",
   "execution_count": 5,
   "metadata": {},
   "outputs": [],
   "source": [
    "from sklearn.decomposition import PCA"
   ]
  },
  {
   "cell_type": "code",
   "execution_count": 6,
   "metadata": {},
   "outputs": [],
   "source": [
    "pca = PCA(n_components=2)\n",
    "X_reduced = pca.fit_transform(X)"
   ]
  },
  {
   "cell_type": "code",
   "execution_count": 7,
   "metadata": {},
   "outputs": [
    {
     "data": {
      "text/plain": [
       "<AxesSubplot:>"
      ]
     },
     "execution_count": 7,
     "metadata": {},
     "output_type": "execute_result"
    },
    {
     "data": {
      "image/png": "[encoded data removed]",
      "text/plain": [
       "<Figure size 432x288 with 1 Axes>"
      ]
     },
     "metadata": {
      "needs_background": "light"
     },
     "output_type": "display_data"
    }
   ],
   "source": [
    "sns.scatterplot(x=X_reduced[:,0], y=X_reduced[:,1], hue=y)"
   ]
  },
  {
   "cell_type": "markdown",
   "metadata": {},
   "source": [
    "## Linear Separator"
   ]
  },
  {
   "cell_type": "code",
   "execution_count": 8,
   "metadata": {},
   "outputs": [
    {
     "name": "stdout",
     "output_type": "stream",
     "text": [
      "Number of iterations 43\n",
      "Accuracy: 1.0\n"
     ]
    }
   ],
   "source": [
    "from sklearn.svm import LinearSVC\n",
    "\n",
    "clf = LinearSVC(random_state=42, max_iter=1000)\n",
    "clf.fit(X, y)\n",
    "print(\"Number of iterations\", clf.n_iter_)\n",
    "print(\"Accuracy:\", clf.score(X, y))"
   ]
  },
  {
   "cell_type": "code",
   "execution_count": 9,
   "metadata": {},
   "outputs": [
    {
     "data": {
      "text/plain": [
       "array([-0.99976088,  0.99920779, -1.55534527, -0.99998436, -2.41794348,\n",
       "       -1.47220649, -2.01977723, -2.03966941, -1.85396544, -0.99995427,\n",
       "       -1.54728386, -0.99972435, -1.58055126, -1.18490784, -0.99967094,\n",
       "       -0.99975959, -0.99986584, -1.31001482, -0.99986491, -1.66870591,\n",
       "       -0.99978134, -0.99995379, -0.99981438, -2.38032678, -2.52716479,\n",
       "       -0.99993212, -0.99961138, -0.99972084, -1.74047396, -1.12811589,\n",
       "       -1.68023677, -1.28672246, -2.00852424, -1.92673625, -1.30659427,\n",
       "       -1.75715526, -2.12590067, -0.9999211 , -1.5177754 , -0.99972342,\n",
       "       -0.99985145, -1.03745897, -1.13792929, -1.99260698, -1.44135978,\n",
       "       -1.99669251, -0.99980017, -1.5227866 , -1.63514094, -1.27719268,\n",
       "        0.99958419,  3.25206257,  1.2707888 ,  0.99972006,  2.83797669,\n",
       "        1.9992384 ,  1.60147556,  0.99988933,  0.99995017,  1.45413373,\n",
       "        0.99998746,  0.9998881 ,  1.73402975,  2.10996796,  0.99996068,\n",
       "        1.69697992,  0.99969505,  1.82164648,  0.99991642,  2.77419532,\n",
       "        1.19344942,  0.99994589,  0.99995442,  0.99983759,  0.99993066,\n",
       "        1.44629503,  0.99997308,  1.78321246,  0.99983775,  1.22365632,\n",
       "        0.99968652, -0.99912011,  1.47500488,  1.12716736,  0.99952054,\n",
       "        1.66285451,  1.09186464,  1.52360654,  2.05233584,  1.44481205,\n",
       "        1.30217293,  0.99983867,  1.74796394,  0.99993894,  1.32383453,\n",
       "        1.85840259,  2.14355409,  1.23270359,  1.07454977,  0.99997136])"
      ]
     },
     "execution_count": 9,
     "metadata": {},
     "output_type": "execute_result"
    }
   ],
   "source": [
    "clf.decision_function(X)"
   ]
  },
  {
   "cell_type": "code",
   "execution_count": 10,
   "metadata": {},
   "outputs": [
    {
     "data": {
      "text/plain": [
       "array([-1,  1, -1, -1, -1, -1, -1, -1, -1, -1, -1, -1, -1, -1, -1, -1, -1,\n",
       "       -1, -1, -1, -1, -1, -1, -1, -1, -1, -1, -1, -1, -1, -1, -1, -1, -1,\n",
       "       -1, -1, -1, -1, -1, -1, -1, -1, -1, -1, -1, -1, -1, -1, -1, -1,  1,\n",
       "        1,  1,  1,  1,  1,  1,  1,  1,  1,  1,  1,  1,  1,  1,  1,  1,  1,\n",
       "        1,  1,  1,  1,  1,  1,  1,  1,  1,  1,  1,  1,  1, -1,  1,  1,  1,\n",
       "        1,  1,  1,  1,  1,  1,  1,  1,  1,  1,  1,  1,  1,  1,  1])"
      ]
     },
     "execution_count": 10,
     "metadata": {},
     "output_type": "execute_result"
    }
   ],
   "source": [
    "y[y == 0] = -1\n",
    "y"
   ]
  },
  {
   "cell_type": "code",
   "execution_count": 11,
   "metadata": {},
   "outputs": [],
   "source": [
    "w_norm = np.linalg.norm(clf.coef_)"
   ]
  },
  {
   "cell_type": "markdown",
   "metadata": {},
   "source": [
    "## ZORO Attack"
   ]
  },
  {
   "cell_type": "code",
   "execution_count": 12,
   "metadata": {},
   "outputs": [],
   "source": [
    "# Adversarial Attack Loss\n",
    "class AttackLoss(object):\n",
    "    '''An implementation of the sparse quadric function.'''\n",
    "    def __init__(self, predictor, lamb, norm, x_original, y_true, y_attack):\n",
    "        self.predictor = predictor\n",
    "        self.lamb = lamb\n",
    "        self.norm = norm\n",
    "        \n",
    "        self.x_original = x_original\n",
    "        self.y_true = y_true\n",
    "        self.y_attack = y_attack\n",
    "        \n",
    "    def __call__(self, x_attack):\n",
    "        ## (f(x + delta) - y_attack + y_true)^2 + lambda ||delta||_0\n",
    "        prediction = self.predictor.decision_function(x_attack)\n",
    "                \n",
    "        return (prediction - self.y_attack)**2 \\\n",
    "              + self.lamb * np.linalg.norm((x_attack - self.x_original), self.norm, axis=1)"
   ]
  },
  {
   "cell_type": "code",
   "execution_count": 13,
   "metadata": {
    "scrolled": true
   },
   "outputs": [],
   "source": [
    "class ZOROExperiment:       \n",
    "    \n",
    "    def __init__(self, step_size=None, delta=None, max_cosamp_iter=None, \n",
    "                 cosamp_tol=None, prop_sparsity=None, lamb=None, norm=None,\n",
    "                 function_budget=None):\n",
    "        self.step_size = step_size\n",
    "        self.delta = delta\n",
    "        self.max_cosamp_iter = max_cosamp_iter\n",
    "        self.cosamp_tol = cosamp_tol\n",
    "        self.prop_sparsity = prop_sparsity\n",
    "        self.lamb = lamb\n",
    "        self.norm = norm\n",
    "        self.function_budget = function_budget\n",
    "        \n",
    "    def score(self, X, y):\n",
    "        return self.loss\n",
    "    \n",
    "    def get_params(self, deep=True):\n",
    "        return {\n",
    "            # Parameters for ZORO. \n",
    "            \"step_size\": self.step_size,\n",
    "            \"delta\": self.delta,\n",
    "            \"max_cosamp_iter\": self.max_cosamp_iter,\n",
    "            \"cosamp_tol\": self.cosamp_tol,\n",
    "            \"prop_sparsity\": self.prop_sparsity,\n",
    "            \"lamb\" : self.lamb,\n",
    "            \"norm\" : self.norm,\n",
    "            \"function_budget\" : self.function_budget\n",
    "        }\n",
    "    \n",
    "    def set_params(self, **kwargs):\n",
    "        for parameter, value in kwargs.items():\n",
    "            setattr(self, parameter, value)\n",
    "        return self\n",
    "    \n",
    "    def fit(self, X, y):\n",
    "        self.report = []\n",
    "        \n",
    "        params = {\n",
    "            \"step_size\": self.step_size,\n",
    "            \"delta\": self.delta,\n",
    "            \"max_cosamp_iter\": self.max_cosamp_iter,\n",
    "            \"cosamp_tol\": self.cosamp_tol,\n",
    "            \"prop_sparsity\": self.prop_sparsity,\n",
    "            \"lamb\" : self.lamb,\n",
    "            \"norm\" : self.norm,\n",
    "            \"function_budget\" : self.function_budget\n",
    "        }\n",
    "        \n",
    "        params[\"sparsity\"] = int(params[\"prop_sparsity\"] * X.shape[1])\n",
    "        params[\"num_samples\"] = int(np.ceil(np.log(X.shape[1])*params[\"sparsity\"]))\n",
    "\n",
    "        # Compute attack loss for each data point individually\n",
    "        for i in range(len(X)):\n",
    "            x0           = X[i, :]\n",
    "            xx0          = x0.copy()\n",
    "\n",
    "            label        = y[i]\n",
    "            label_attack = -y[i]\n",
    "\n",
    "            obj_func = AttackLoss(\n",
    "                predictor=clf, \n",
    "                lamb=self.lamb, \n",
    "                norm=self.norm, \n",
    "                x_original=xx0,\n",
    "                y_true=label,\n",
    "                y_attack=label_attack\n",
    "            )\n",
    "\n",
    "            # initialize optimizer object\n",
    "            self.report.append([{\"evals\": 0, \"x\": x0, \"y\": label, \"loss\": obj_func(np.expand_dims(x0, 0))[0]}])\n",
    "            opt = optimizers.ZORO(x0, obj_func, params, function_budget=self.function_budget, function_target=0.001)\n",
    "\n",
    "            # the optimization routine\n",
    "            termination = False\n",
    "            while termination is False:\n",
    "                # optimization step\n",
    "                # solution_ZORO = False until a termination criterion is met, in which \n",
    "                # case solution_ZORO = the solution found.\n",
    "                # termination = False until a termination criterion is met.\n",
    "                # If ZORO terminates because function evaluation budget is met, \n",
    "                # termination = B\n",
    "                # If ZORO terminated because the target accuracy is met,\n",
    "                # termination= T.\n",
    "\n",
    "                evals_ZORO, solution_ZORO, termination = opt.step()\n",
    "\n",
    "                # save some useful values\n",
    "                self.report[-1].append({\"evals\" : evals_ZORO, \"x\": solution_ZORO, \"loss\": np.mean(opt.fd)})\n",
    "                # print some useful values\n",
    "                #opt.report( f'Estimated f(x_{i}): %f  function evals: %d\\n' %\n",
    "                #    (np.mean(opt.fd), evals_ZORO) )\n",
    "        self.loss = sum([self.report[i][-1][\"loss\"] for i in range(len(self.report))]) / len(self.report)"
   ]
  },
  {
   "cell_type": "markdown",
   "metadata": {},
   "source": [
    "### Hyperparameter Search"
   ]
  },
  {
   "cell_type": "code",
   "execution_count": 14,
   "metadata": {},
   "outputs": [],
   "source": [
    "# Parameters to search for ZORO attack\n",
    "lamb = 0.1\n",
    "params = {\n",
    "    \"step_size\": [1e-3, 1e-2, 1e-1, 1e0, 1e1, 1e2],\n",
    "    \"delta\": [1e-3, 1e-4, 1e-5], \n",
    "    \"max_cosamp_iter\": [5, 10, 15, 20, 25],\n",
    "    \"cosamp_tol\": [0.5], \n",
    "    \"prop_sparsity\": [0.05, 0.10, 0.15, 0.20, 0.25], \n",
    "    \"lamb\" : [lamb], \n",
    "    \"norm\" : [2],\n",
    "    \"function_budget\": [1e4] # for hyperparameter tuning, we give this as a budget\n",
    "}"
   ]
  },
  {
   "cell_type": "code",
   "execution_count": 15,
   "metadata": {},
   "outputs": [],
   "source": [
    "clf_search = sklearn.model_selection.RandomizedSearchCV(\n",
    "    estimator = ZOROExperiment(),\n",
    "    param_distributions = params,\n",
    "    n_iter = 100, # Run 100 random trials\n",
    "    n_jobs = 20, # Run 20 jobs at once\n",
    "    refit = False,\n",
    "    cv = ShuffleSplit(n_splits=1, train_size=16, random_state=42), # We attack the same 16 examples for every trial\n",
    "    error_score=np.nan,\n",
    "    random_state = 42\n",
    ")"
   ]
  },
  {
   "cell_type": "code",
   "execution_count": 16,
   "metadata": {
    "scrolled": true
   },
   "outputs": [
    {
     "name": "stderr",
     "output_type": "stream",
     "text": [
      "/home/simonl2/.conda/envs/yeast-raytune2/lib/python3.8/site-packages/sklearn/model_selection/_validation.py:372: FitFailedWarning: \n",
      "3 fits failed out of a total of 100.\n",
      "The score on these train-test partitions for these parameters will be set to nan.\n",
      "If these failures are not expected, you can try to debug them by setting error_score='raise'.\n",
      "\n",
      "Below are more details about the failures:\n",
      "--------------------------------------------------------------------------------\n",
      "1 fits failed with the following error:\n",
      "Traceback (most recent call last):\n",
      "  File \"/home/simonl2/.conda/envs/yeast-raytune2/lib/python3.8/site-packages/sklearn/model_selection/_validation.py\", line 681, in _fit_and_score\n",
      "    estimator.fit(X_train, y_train, **fit_params)\n",
      "  File \"/tmp/ipykernel_1705720/1368911766.py\", line 86, in fit\n",
      "  File \"/home/simonl2/ndimensional/optml-project/ZORO/optimizers.py\", line 89, in step\n",
      "    grad_est, f_est = self.CosampGradEstimate()\n",
      "  File \"/home/simonl2/ndimensional/optml-project/ZORO/optimizers.py\", line 79, in CosampGradEstimate\n",
      "    grad_estimate = cosamp(Z, y, sparsity, tol, maxiterations)\n",
      "  File \"/home/simonl2/ndimensional/optml-project/ZORO/Cosamp.py\", line 65, in cosamp\n",
      "    Kgoodindices = np.argpartition(-abs(b), K)\n",
      "  File \"<__array_function__ internals>\", line 5, in argpartition\n",
      "  File \"/home/simonl2/.conda/envs/yeast-raytune2/lib/python3.8/site-packages/numpy/core/fromnumeric.py\", line 832, in argpartition\n",
      "    return _wrapfunc(a, 'argpartition', kth, axis=axis, kind=kind, order=order)\n",
      "  File \"/home/simonl2/.conda/envs/yeast-raytune2/lib/python3.8/site-packages/numpy/core/fromnumeric.py\", line 58, in _wrapfunc\n",
      "    return bound(*args, **kwds)\n",
      "ValueError: kth(=5) out of bounds (5)\n",
      "\n",
      "--------------------------------------------------------------------------------\n",
      "2 fits failed with the following error:\n",
      "Traceback (most recent call last):\n",
      "  File \"/home/simonl2/.conda/envs/yeast-raytune2/lib/python3.8/site-packages/sklearn/model_selection/_validation.py\", line 681, in _fit_and_score\n",
      "    estimator.fit(X_train, y_train, **fit_params)\n",
      "  File \"/tmp/ipykernel_1705720/1368911766.py\", line 86, in fit\n",
      "  File \"/home/simonl2/ndimensional/optml-project/ZORO/optimizers.py\", line 89, in step\n",
      "    grad_est, f_est = self.CosampGradEstimate()\n",
      "  File \"/home/simonl2/ndimensional/optml-project/ZORO/optimizers.py\", line 79, in CosampGradEstimate\n",
      "    grad_estimate = cosamp(Z, y, sparsity, tol, maxiterations)\n",
      "  File \"/home/simonl2/ndimensional/optml-project/ZORO/Cosamp.py\", line 65, in cosamp\n",
      "    Kgoodindices = np.argpartition(-abs(b), K)\n",
      "  File \"<__array_function__ internals>\", line 5, in argpartition\n",
      "  File \"/home/simonl2/.conda/envs/yeast-raytune2/lib/python3.8/site-packages/numpy/core/fromnumeric.py\", line 832, in argpartition\n",
      "    return _wrapfunc(a, 'argpartition', kth, axis=axis, kind=kind, order=order)\n",
      "  File \"/home/simonl2/.conda/envs/yeast-raytune2/lib/python3.8/site-packages/numpy/core/fromnumeric.py\", line 58, in _wrapfunc\n",
      "    return bound(*args, **kwds)\n",
      "ValueError: kth(=10) out of bounds (9)\n",
      "\n",
      "  warnings.warn(some_fits_failed_message, FitFailedWarning)\n",
      "/home/simonl2/.conda/envs/yeast-raytune2/lib/python3.8/site-packages/sklearn/model_selection/_search.py:969: UserWarning: One or more of the test scores are non-finite: [6.46446946e+00 6.08675130e+00 2.06983584e+00 6.09296879e+00\n",
      " 5.96598593e+00 5.95344731e+00 5.98011824e+00 2.04719461e+00\n",
      " 1.79034072e+00 2.05331961e+00 7.37501699e+00 3.38822772e+00\n",
      " 2.99019132e+00 4.84343714e+00 2.55388256e+00 6.21308084e+00\n",
      " 2.14908144e+00 5.96382437e+00 2.53752844e+00 3.48464015e+00\n",
      " 5.94992655e+00 6.08536322e+00 5.29049300e+00 3.07917393e+00\n",
      " 7.59543666e+00 6.03151238e+00 6.08548276e+00 2.39805868e+00\n",
      " 5.73849020e+00 6.08709275e+00 5.94350134e+00 5.70440721e+00\n",
      " 5.11717246e+00 4.87312444e+00 2.32826599e+00 6.08756551e+00\n",
      " 1.02551186e+01 5.51000793e+00 5.47795720e+00 5.96452351e+00\n",
      " 2.12034634e+00 4.73457060e+00 6.08452509e+00 2.45746338e+00\n",
      " 3.16302634e+00 5.96761347e+00 6.08357420e+00            nan\n",
      " 4.95235074e+00 5.95650397e+00 6.30354799e+00 6.09635914e+00\n",
      " 3.25016526e+00 1.97870126e+00 4.97629578e+00            nan\n",
      " 5.38617863e+00 2.55619126e+00            nan 5.97197939e+00\n",
      " 6.08656010e+00 5.94919094e+00 4.71271878e+00 4.93190663e+00\n",
      " 4.91941288e+00 4.29459883e+00 1.80166299e+00 5.37130503e+00\n",
      " 2.14055104e+00 6.09106443e+00 2.15976259e+00 5.96771435e+00\n",
      " 4.91565126e+00 4.91840870e+00 4.78280975e+00 6.08450598e+00\n",
      " 5.96590113e+00 5.95720205e+00 4.93303576e+00 6.00016353e+00\n",
      " 6.08564946e+00 5.95381253e+00 2.00468099e+00 2.55871521e+00\n",
      " 6.08702607e+00 5.63936330e+00 8.30162257e+00 6.08440841e+00\n",
      " 2.04660319e+00 2.36033526e+00 6.08572770e+00 5.32847228e+00\n",
      " 6.08488599e+00 1.80941885e+00 3.34009283e+00 5.98357807e+00\n",
      " 6.08621087e+00 5.90215751e+00 2.54563106e+00 9.12652352e+12]\n",
      "  warnings.warn(\n"
     ]
    }
   ],
   "source": [
    "search_results = clf_search.fit(X, y)"
   ]
  },
  {
   "cell_type": "code",
   "execution_count": 17,
   "metadata": {
    "scrolled": true
   },
   "outputs": [],
   "source": [
    "import pandas as pd\n",
    "# We see NaNs when numerical errors due to overflow occur (indicates a terrible hyperparam combination)\n",
    "results_summary = pd.DataFrame(search_results.cv_results_).sort_values(\"mean_test_score\")\n",
    "results_summary.to_csv(f\"gaussian_zoro_lambda{lamb}_d{dim}_20220616_report.tsv\", sep=\"\\t\", index=False)"
   ]
  },
  {
   "cell_type": "code",
   "execution_count": 18,
   "metadata": {},
   "outputs": [
    {
     "data": {
      "text/html": [
       "<div>\n",
       "<style scoped>\n",
       "    .dataframe tbody tr th:only-of-type {\n",
       "        vertical-align: middle;\n",
       "    }\n",
       "\n",
       "    .dataframe tbody tr th {\n",
       "        vertical-align: top;\n",
       "    }\n",
       "\n",
       "    .dataframe thead th {\n",
       "        text-align: right;\n",
       "    }\n",
       "</style>\n",
       "<table border=\"1\" class=\"dataframe\">\n",
       "  <thead>\n",
       "    <tr style=\"text-align: right;\">\n",
       "      <th></th>\n",
       "      <th>mean_fit_time</th>\n",
       "      <th>std_fit_time</th>\n",
       "      <th>mean_score_time</th>\n",
       "      <th>std_score_time</th>\n",
       "      <th>param_step_size</th>\n",
       "      <th>param_prop_sparsity</th>\n",
       "      <th>param_norm</th>\n",
       "      <th>param_max_cosamp_iter</th>\n",
       "      <th>param_lamb</th>\n",
       "      <th>param_function_budget</th>\n",
       "      <th>param_delta</th>\n",
       "      <th>param_cosamp_tol</th>\n",
       "      <th>params</th>\n",
       "      <th>split0_test_score</th>\n",
       "      <th>mean_test_score</th>\n",
       "      <th>std_test_score</th>\n",
       "      <th>rank_test_score</th>\n",
       "    </tr>\n",
       "  </thead>\n",
       "  <tbody>\n",
       "    <tr>\n",
       "      <th>8</th>\n",
       "      <td>42.121542</td>\n",
       "      <td>0.0</td>\n",
       "      <td>0.000036</td>\n",
       "      <td>0.0</td>\n",
       "      <td>10.0</td>\n",
       "      <td>0.25</td>\n",
       "      <td>2</td>\n",
       "      <td>20</td>\n",
       "      <td>0.1</td>\n",
       "      <td>10000.0</td>\n",
       "      <td>0.0001</td>\n",
       "      <td>0.5</td>\n",
       "      <td>{'step_size': 10.0, 'prop_sparsity': 0.25, 'no...</td>\n",
       "      <td>1.790341e+00</td>\n",
       "      <td>1.790341e+00</td>\n",
       "      <td>0.0</td>\n",
       "      <td>97</td>\n",
       "    </tr>\n",
       "    <tr>\n",
       "      <th>66</th>\n",
       "      <td>48.993463</td>\n",
       "      <td>0.0</td>\n",
       "      <td>0.000032</td>\n",
       "      <td>0.0</td>\n",
       "      <td>10.0</td>\n",
       "      <td>0.25</td>\n",
       "      <td>2</td>\n",
       "      <td>25</td>\n",
       "      <td>0.1</td>\n",
       "      <td>10000.0</td>\n",
       "      <td>0.00001</td>\n",
       "      <td>0.5</td>\n",
       "      <td>{'step_size': 10.0, 'prop_sparsity': 0.25, 'no...</td>\n",
       "      <td>1.801663e+00</td>\n",
       "      <td>1.801663e+00</td>\n",
       "      <td>0.0</td>\n",
       "      <td>96</td>\n",
       "    </tr>\n",
       "    <tr>\n",
       "      <th>93</th>\n",
       "      <td>34.298540</td>\n",
       "      <td>0.0</td>\n",
       "      <td>0.000021</td>\n",
       "      <td>0.0</td>\n",
       "      <td>10.0</td>\n",
       "      <td>0.25</td>\n",
       "      <td>2</td>\n",
       "      <td>25</td>\n",
       "      <td>0.1</td>\n",
       "      <td>10000.0</td>\n",
       "      <td>0.001</td>\n",
       "      <td>0.5</td>\n",
       "      <td>{'step_size': 10.0, 'prop_sparsity': 0.25, 'no...</td>\n",
       "      <td>1.809419e+00</td>\n",
       "      <td>1.809419e+00</td>\n",
       "      <td>0.0</td>\n",
       "      <td>95</td>\n",
       "    </tr>\n",
       "    <tr>\n",
       "      <th>53</th>\n",
       "      <td>47.501226</td>\n",
       "      <td>0.0</td>\n",
       "      <td>0.000032</td>\n",
       "      <td>0.0</td>\n",
       "      <td>10.0</td>\n",
       "      <td>0.2</td>\n",
       "      <td>2</td>\n",
       "      <td>15</td>\n",
       "      <td>0.1</td>\n",
       "      <td>10000.0</td>\n",
       "      <td>0.001</td>\n",
       "      <td>0.5</td>\n",
       "      <td>{'step_size': 10.0, 'prop_sparsity': 0.2, 'nor...</td>\n",
       "      <td>1.978701e+00</td>\n",
       "      <td>1.978701e+00</td>\n",
       "      <td>0.0</td>\n",
       "      <td>94</td>\n",
       "    </tr>\n",
       "    <tr>\n",
       "      <th>82</th>\n",
       "      <td>42.632762</td>\n",
       "      <td>0.0</td>\n",
       "      <td>0.000023</td>\n",
       "      <td>0.0</td>\n",
       "      <td>10.0</td>\n",
       "      <td>0.2</td>\n",
       "      <td>2</td>\n",
       "      <td>5</td>\n",
       "      <td>0.1</td>\n",
       "      <td>10000.0</td>\n",
       "      <td>0.001</td>\n",
       "      <td>0.5</td>\n",
       "      <td>{'step_size': 10.0, 'prop_sparsity': 0.2, 'nor...</td>\n",
       "      <td>2.004681e+00</td>\n",
       "      <td>2.004681e+00</td>\n",
       "      <td>0.0</td>\n",
       "      <td>93</td>\n",
       "    </tr>\n",
       "    <tr>\n",
       "      <th>...</th>\n",
       "      <td>...</td>\n",
       "      <td>...</td>\n",
       "      <td>...</td>\n",
       "      <td>...</td>\n",
       "      <td>...</td>\n",
       "      <td>...</td>\n",
       "      <td>...</td>\n",
       "      <td>...</td>\n",
       "      <td>...</td>\n",
       "      <td>...</td>\n",
       "      <td>...</td>\n",
       "      <td>...</td>\n",
       "      <td>...</td>\n",
       "      <td>...</td>\n",
       "      <td>...</td>\n",
       "      <td>...</td>\n",
       "      <td>...</td>\n",
       "    </tr>\n",
       "    <tr>\n",
       "      <th>36</th>\n",
       "      <td>37.762709</td>\n",
       "      <td>0.0</td>\n",
       "      <td>0.000025</td>\n",
       "      <td>0.0</td>\n",
       "      <td>100.0</td>\n",
       "      <td>0.05</td>\n",
       "      <td>2</td>\n",
       "      <td>20</td>\n",
       "      <td>0.1</td>\n",
       "      <td>10000.0</td>\n",
       "      <td>0.00001</td>\n",
       "      <td>0.5</td>\n",
       "      <td>{'step_size': 100.0, 'prop_sparsity': 0.05, 'n...</td>\n",
       "      <td>1.025512e+01</td>\n",
       "      <td>1.025512e+01</td>\n",
       "      <td>0.0</td>\n",
       "      <td>2</td>\n",
       "    </tr>\n",
       "    <tr>\n",
       "      <th>99</th>\n",
       "      <td>9.419659</td>\n",
       "      <td>0.0</td>\n",
       "      <td>0.000019</td>\n",
       "      <td>0.0</td>\n",
       "      <td>100.0</td>\n",
       "      <td>0.25</td>\n",
       "      <td>2</td>\n",
       "      <td>15</td>\n",
       "      <td>0.1</td>\n",
       "      <td>10000.0</td>\n",
       "      <td>0.00001</td>\n",
       "      <td>0.5</td>\n",
       "      <td>{'step_size': 100.0, 'prop_sparsity': 0.25, 'n...</td>\n",
       "      <td>9.126524e+12</td>\n",
       "      <td>9.126524e+12</td>\n",
       "      <td>0.0</td>\n",
       "      <td>1</td>\n",
       "    </tr>\n",
       "    <tr>\n",
       "      <th>47</th>\n",
       "      <td>6.520475</td>\n",
       "      <td>0.0</td>\n",
       "      <td>0.000000</td>\n",
       "      <td>0.0</td>\n",
       "      <td>100.0</td>\n",
       "      <td>0.05</td>\n",
       "      <td>2</td>\n",
       "      <td>10</td>\n",
       "      <td>0.1</td>\n",
       "      <td>10000.0</td>\n",
       "      <td>0.0001</td>\n",
       "      <td>0.5</td>\n",
       "      <td>{'step_size': 100.0, 'prop_sparsity': 0.05, 'n...</td>\n",
       "      <td>NaN</td>\n",
       "      <td>NaN</td>\n",
       "      <td>NaN</td>\n",
       "      <td>100</td>\n",
       "    </tr>\n",
       "    <tr>\n",
       "      <th>55</th>\n",
       "      <td>25.968282</td>\n",
       "      <td>0.0</td>\n",
       "      <td>0.000000</td>\n",
       "      <td>0.0</td>\n",
       "      <td>100.0</td>\n",
       "      <td>0.1</td>\n",
       "      <td>2</td>\n",
       "      <td>5</td>\n",
       "      <td>0.1</td>\n",
       "      <td>10000.0</td>\n",
       "      <td>0.001</td>\n",
       "      <td>0.5</td>\n",
       "      <td>{'step_size': 100.0, 'prop_sparsity': 0.1, 'no...</td>\n",
       "      <td>NaN</td>\n",
       "      <td>NaN</td>\n",
       "      <td>NaN</td>\n",
       "      <td>98</td>\n",
       "    </tr>\n",
       "    <tr>\n",
       "      <th>58</th>\n",
       "      <td>10.162648</td>\n",
       "      <td>0.0</td>\n",
       "      <td>0.000000</td>\n",
       "      <td>0.0</td>\n",
       "      <td>100.0</td>\n",
       "      <td>0.1</td>\n",
       "      <td>2</td>\n",
       "      <td>20</td>\n",
       "      <td>0.1</td>\n",
       "      <td>10000.0</td>\n",
       "      <td>0.001</td>\n",
       "      <td>0.5</td>\n",
       "      <td>{'step_size': 100.0, 'prop_sparsity': 0.1, 'no...</td>\n",
       "      <td>NaN</td>\n",
       "      <td>NaN</td>\n",
       "      <td>NaN</td>\n",
       "      <td>99</td>\n",
       "    </tr>\n",
       "  </tbody>\n",
       "</table>\n",
       "<p>100 rows × 17 columns</p>\n",
       "</div>"
      ],
      "text/plain": [
       "    mean_fit_time  std_fit_time  mean_score_time  std_score_time  \\\n",
       "8       42.121542           0.0         0.000036             0.0   \n",
       "66      48.993463           0.0         0.000032             0.0   \n",
       "93      34.298540           0.0         0.000021             0.0   \n",
       "53      47.501226           0.0         0.000032             0.0   \n",
       "82      42.632762           0.0         0.000023             0.0   \n",
       "..            ...           ...              ...             ...   \n",
       "36      37.762709           0.0         0.000025             0.0   \n",
       "99       9.419659           0.0         0.000019             0.0   \n",
       "47       6.520475           0.0         0.000000             0.0   \n",
       "55      25.968282           0.0         0.000000             0.0   \n",
       "58      10.162648           0.0         0.000000             0.0   \n",
       "\n",
       "   param_step_size param_prop_sparsity param_norm param_max_cosamp_iter  \\\n",
       "8             10.0                0.25          2                    20   \n",
       "66            10.0                0.25          2                    25   \n",
       "93            10.0                0.25          2                    25   \n",
       "53            10.0                 0.2          2                    15   \n",
       "82            10.0                 0.2          2                     5   \n",
       "..             ...                 ...        ...                   ...   \n",
       "36           100.0                0.05          2                    20   \n",
       "99           100.0                0.25          2                    15   \n",
       "47           100.0                0.05          2                    10   \n",
       "55           100.0                 0.1          2                     5   \n",
       "58           100.0                 0.1          2                    20   \n",
       "\n",
       "   param_lamb param_function_budget param_delta param_cosamp_tol  \\\n",
       "8         0.1               10000.0      0.0001              0.5   \n",
       "66        0.1               10000.0     0.00001              0.5   \n",
       "93        0.1               10000.0       0.001              0.5   \n",
       "53        0.1               10000.0       0.001              0.5   \n",
       "82        0.1               10000.0       0.001              0.5   \n",
       "..        ...                   ...         ...              ...   \n",
       "36        0.1               10000.0     0.00001              0.5   \n",
       "99        0.1               10000.0     0.00001              0.5   \n",
       "47        0.1               10000.0      0.0001              0.5   \n",
       "55        0.1               10000.0       0.001              0.5   \n",
       "58        0.1               10000.0       0.001              0.5   \n",
       "\n",
       "                                               params  split0_test_score  \\\n",
       "8   {'step_size': 10.0, 'prop_sparsity': 0.25, 'no...       1.790341e+00   \n",
       "66  {'step_size': 10.0, 'prop_sparsity': 0.25, 'no...       1.801663e+00   \n",
       "93  {'step_size': 10.0, 'prop_sparsity': 0.25, 'no...       1.809419e+00   \n",
       "53  {'step_size': 10.0, 'prop_sparsity': 0.2, 'nor...       1.978701e+00   \n",
       "82  {'step_size': 10.0, 'prop_sparsity': 0.2, 'nor...       2.004681e+00   \n",
       "..                                                ...                ...   \n",
       "36  {'step_size': 100.0, 'prop_sparsity': 0.05, 'n...       1.025512e+01   \n",
       "99  {'step_size': 100.0, 'prop_sparsity': 0.25, 'n...       9.126524e+12   \n",
       "47  {'step_size': 100.0, 'prop_sparsity': 0.05, 'n...                NaN   \n",
       "55  {'step_size': 100.0, 'prop_sparsity': 0.1, 'no...                NaN   \n",
       "58  {'step_size': 100.0, 'prop_sparsity': 0.1, 'no...                NaN   \n",
       "\n",
       "    mean_test_score  std_test_score  rank_test_score  \n",
       "8      1.790341e+00             0.0               97  \n",
       "66     1.801663e+00             0.0               96  \n",
       "93     1.809419e+00             0.0               95  \n",
       "53     1.978701e+00             0.0               94  \n",
       "82     2.004681e+00             0.0               93  \n",
       "..              ...             ...              ...  \n",
       "36     1.025512e+01             0.0                2  \n",
       "99     9.126524e+12             0.0                1  \n",
       "47              NaN             NaN              100  \n",
       "55              NaN             NaN               98  \n",
       "58              NaN             NaN               99  \n",
       "\n",
       "[100 rows x 17 columns]"
      ]
     },
     "execution_count": 18,
     "metadata": {},
     "output_type": "execute_result"
    }
   ],
   "source": [
    "results_summary.sort_values(\"mean_test_score\")"
   ]
  },
  {
   "cell_type": "markdown",
   "metadata": {},
   "source": [
    "### Train Best Model With Higher Budget"
   ]
  },
  {
   "cell_type": "code",
   "execution_count": null,
   "metadata": {},
   "outputs": [],
   "source": [
    "rs = ShuffleSplit(n_splits=1, train_size=16, random_state=42)\n",
    "# Recover the exact indices used for training (kind of hacky)\n",
    "for train_index, test_index in rs.split(X):\n",
    "    X_sel, y_sel = X[train_index], y[train_index]"
   ]
  },
  {
   "cell_type": "code",
   "execution_count": null,
   "metadata": {
    "scrolled": true
   },
   "outputs": [],
   "source": [
    "best_params = search_results.cv_results_[\"params\"][0]\n",
    "best_params.update({\"function_budget\" : 1e4})\n",
    "best_exp = ZOROExperiment(**best_params)\n",
    "best_exp.fit(X_sel[:16,:], y_sel[:16])"
   ]
  },
  {
   "cell_type": "markdown",
   "metadata": {},
   "source": [
    "#### Save Reports"
   ]
  },
  {
   "cell_type": "code",
   "execution_count": null,
   "metadata": {},
   "outputs": [],
   "source": [
    "torch.save(best_exp.report, f\"gaussian_zoro_lambda{lamb}_d{dim}_20220616_report.pt\")"
   ]
  },
  {
   "cell_type": "markdown",
   "metadata": {},
   "source": [
    "### Reload Best Attacker Data and Plot Graphs"
   ]
  },
  {
   "cell_type": "code",
   "execution_count": null,
   "metadata": {},
   "outputs": [],
   "source": [
    "report = torch.load(f\"gaussian_zoro_lambda{lamb}_d{dim}_20220616_report.pt\")"
   ]
  },
  {
   "cell_type": "code",
   "execution_count": null,
   "metadata": {},
   "outputs": [],
   "source": [
    "data_point = []\n",
    "\n",
    "iteration = []\n",
    "number_evals = []\n",
    "perturbation_norms = []\n",
    "predictions = []\n",
    "labels = []\n",
    "\n",
    "for i in range(len(report)):\n",
    "    data_point.extend([i] * len(report[i]))\n",
    "    original = report[i][0][\"x\"]\n",
    "    labels.extend([report[i][0][\"y\"]] * len(report[i]))\n",
    "\n",
    "    iteration.extend(range(len(report[i])))\n",
    "    number_evals.extend(report[i][j][\"evals\"] for j in range(len(report[i])))\n",
    "    perturbation_norms.extend([np.linalg.norm(original - report[i][j][\"x\"], 2) for j in range(len(report[i]))])\n",
    "    predictions.extend(clf.decision_function(np.stack([report[i][j][\"x\"] for j in range(len(report[i]))])).tolist())\n",
    "    \n",
    "results_df = pd.DataFrame(\n",
    "    {\"data_point\" : data_point,\n",
    "     \"iteration\" : iteration,\n",
    "      \"number_evals\": number_evals,\n",
    "      \"perturbation_norms\": perturbation_norms,\n",
    "      \"predictions\": predictions,\n",
    "      \"labels\" : labels}\n",
    ")"
   ]
  },
  {
   "cell_type": "markdown",
   "metadata": {},
   "source": [
    "#### Fig 1\n",
    "\n",
    "PCA of Data Points, Four Groupings:\n",
    "1. Original Cluster 1\n",
    "2. Original Cluster 2\n",
    "3. Attack Points 1->2\n",
    "4. Attack Points 2->1"
   ]
  },
  {
   "cell_type": "code",
   "execution_count": null,
   "metadata": {},
   "outputs": [],
   "source": [
    "#selected = results_df[(results_df[\"data_point\"] == j) & (results_df[\"iteration\"] % 50 == 0)]\n",
    "selected_X = np.stack([report[i][-1][\"x\"] for i in range(len(report))])\n",
    "\n",
    "plt.figure(figsize=(5,5), dpi=200)\n",
    "reduced_X = pca.transform(selected_X)\n",
    "sns.scatterplot(x=X_reduced[:,0], y=X_reduced[:,1], style=y)\n",
    "sns.scatterplot(x=reduced_X[:, 0], y=reduced_X[:, 1], style=y_sel, hue=0, palette=\"magma\")"
   ]
  },
  {
   "cell_type": "markdown",
   "metadata": {},
   "source": [
    "#### Fig 2\n",
    "\n",
    "PCA of Example Point:\n",
    "1. Original Cluster 1\n",
    "2. Original Cluster 2\n",
    "3. Trace of Attack over Iterations"
   ]
  },
  {
   "cell_type": "code",
   "execution_count": null,
   "metadata": {
    "scrolled": false
   },
   "outputs": [],
   "source": [
    "j = 1\n",
    "#selected = results_df[(results_df[\"data_point\"] == j) & (results_df[\"iteration\"] % 50 == 0)]\n",
    "selected_X = np.stack([report[j][i][\"x\"] for i in range(len(report[j]))])[:30]\n",
    "plt.figure(figsize=(5,5), dpi=200)\n",
    "reduced_X = pca.transform(selected_X)\n",
    "sns.scatterplot(x=X_reduced[:,0], y=X_reduced[:,1], style=y)\n",
    "sns.scatterplot(x=reduced_X[:, 0], y=reduced_X[:, 1], hue=range(len(reduced_X)), palette=\"flare\")"
   ]
  },
  {
   "cell_type": "markdown",
   "metadata": {},
   "source": [
    "#### Fig 3\n",
    "\n",
    "Distance from Hyperplane (Vector Norm)"
   ]
  },
  {
   "cell_type": "code",
   "execution_count": null,
   "metadata": {},
   "outputs": [],
   "source": [
    "plt.figure(figsize=(6, 4), dpi=300)\n",
    "sns.lineplot(data=results_df, x=\"number_evals\", y=\"predictions\", hue=\"labels\", style=\"data_point\")\n",
    "plt.ylabel(\"L2 Norm of Euclidean Distance\")\n",
    "plt.xlabel(\"Function Evaluations\")\n",
    "plt.title(\"Distance from Adversarial Example to Decision Boundary\")"
   ]
  },
  {
   "cell_type": "markdown",
   "metadata": {},
   "source": [
    "#### Fig 4\n",
    "\n",
    "Distance from Input to Attack Vector (Vector Norm)"
   ]
  },
  {
   "cell_type": "code",
   "execution_count": null,
   "metadata": {
    "scrolled": false
   },
   "outputs": [],
   "source": [
    "plt.figure(figsize=(6, 4), dpi=300)\n",
    "sns.lineplot(data=results_df, x=\"number_evals\", y=\"perturbation_norms\", hue=\"data_point\")\n",
    "plt.ylabel(\"L2 Norm of Euclidean Distance\")\n",
    "plt.xlabel(\"Function Evaluations\")\n",
    "plt.title(\"Distance from Adversarial Example to Original Example\")"
   ]
  },
  {
   "cell_type": "code",
   "execution_count": null,
   "metadata": {},
   "outputs": [],
   "source": []
  },
  {
   "cell_type": "code",
   "execution_count": null,
   "metadata": {},
   "outputs": [],
   "source": []
  }
 ],
 "metadata": {
  "kernelspec": {
   "display_name": "Python [conda env:.conda-yeast-raytune2]",
   "language": "python",
   "name": "conda-env-.conda-yeast-raytune2-py"
  },
  "language_info": {
   "codemirror_mode": {
    "name": "ipython",
    "version": 3
   },
   "file_extension": ".py",
   "mimetype": "text/x-python",
   "name": "python",
   "nbconvert_exporter": "python",
   "pygments_lexer": "ipython3",
   "version": "3.8.12"
  }
 },
 "nbformat": 4,
 "nbformat_minor": 4
}
