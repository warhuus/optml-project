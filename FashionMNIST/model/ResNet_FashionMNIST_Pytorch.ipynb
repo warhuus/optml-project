{
  "nbformat": 4,
  "nbformat_minor": 0,
  "metadata": {
    "colab": {
      "name": "ResNet_FashionMNIST_Pytorch.ipynb",
      "provenance": [],
      "collapsed_sections": []
    },
    "kernelspec": {
      "name": "python3",
      "display_name": "Python 3"
    },
    "accelerator": "GPU"
  },
  "cells": [
    {
      "cell_type": "markdown",
      "metadata": {
        "id": "C3OpFPt8BvcL"
      },
      "source": [
        "# **ResNet Pytorch implementation for FashionMNIST classification**\n",
        "First we import the required packages."
      ]
    },
    {
      "cell_type": "code",
      "metadata": {
        "id": "xAKTOMBhZnsO"
      },
      "source": [
        "%matplotlib inline\n",
        "import torch\n",
        "import torch.nn as nn\n",
        "from matplotlib import pyplot as plt\n",
        "import numpy as np\n",
        "import torchvision\n",
        "import torchvision.datasets as datasets\n",
        "import torchvision.models as models\n",
        "from torchvision import transforms\n",
        "import torch.optim as optim\n",
        "import time\n",
        "import tqdm as tqdm\n",
        "from torch.autograd import Variable"
      ],
      "execution_count": null,
      "outputs": []
    },
    {
      "cell_type": "markdown",
      "metadata": {
        "id": "eH9o40oiCEAo"
      },
      "source": [
        "## **Load Dataset**\n",
        "We can load data from pytorch dataset and preprocess it using *transform* function.\n",
        "\n",
        "Note that the ResNet implemented in torchvision take RGB images as inputs, which has three channels. So, here we repeat the single-channel grey scale digits image three times to fit the torchvision model."
      ]
    },
    {
      "cell_type": "code",
      "metadata": {
        "id": "6dkW6FggBsnQ",
        "outputId": "ab5bef80-a910-41c7-ffea-d4a0a94b381c",
        "colab": {
          "base_uri": "https://localhost:8080/"
        }
      },
      "source": [
        "transform = transforms.Compose([transforms.ToTensor(),\n",
        "                                # expand chennel from 1 to 3 to fit \n",
        "                                # ResNet pretrained model\n",
        "                                transforms.Lambda(lambda x: x.repeat(3, 1, 1)),\n",
        "                                ]) \n",
        "batch_size = 256\n",
        "\n",
        "# download dataset\n",
        "mnist_train = datasets.FashionMNIST(root='./data', train=True, download=True, transform=transform)\n",
        "mnist_test = datasets.FashionMNIST(root='./data', train=False, download=True, transform=transform)\n",
        "print(len(mnist_train), len(mnist_test))\n",
        "\n",
        "# Load dataset\n",
        "train_loader = torch.utils.data.DataLoader(mnist_train, batch_size=batch_size,\n",
        "    shuffle=True, num_workers=0)\n",
        "test_loader = torch.utils.data.DataLoader(mnist_test, batch_size=batch_size,\n",
        "    shuffle=True, num_workers=0)"
      ],
      "execution_count": null,
      "outputs": [
        {
          "output_type": "stream",
          "name": "stdout",
          "text": [
            "60000 10000\n"
          ]
        }
      ]
    },
    {
      "cell_type": "markdown",
      "metadata": {
        "id": "qNPQ35vFDxPW"
      },
      "source": [
        "## **Building the model**\n"
      ]
    },
    {
      "cell_type": "code",
      "metadata": {
        "id": "tQU0tzUdbWid"
      },
      "source": [
        "# print(models.resnet18())\n",
        "class ResNetFeatrueExtractor18(nn.Module):\n",
        "    def __init__(self, pretrained = True):\n",
        "        super(ResNetFeatrueExtractor18, self).__init__()\n",
        "        model_resnet18 = models.resnet18(pretrained=pretrained)\n",
        "        self.conv1 = model_resnet18.conv1\n",
        "        self.bn1 = model_resnet18.bn1\n",
        "        self.relu = model_resnet18.relu\n",
        "        self.maxpool = model_resnet18.maxpool\n",
        "        self.layer1 = model_resnet18.layer1\n",
        "        self.layer2 = model_resnet18.layer2\n",
        "        self.layer3 = model_resnet18.layer3\n",
        "        self.layer4 = model_resnet18.layer4\n",
        "        self.avgpool = model_resnet18.avgpool\n",
        "        self.fc = nn.Linear(512, 10)\n",
        "\n",
        "    def forward(self, x):\n",
        "        x = self.relu(self.bn1(self.conv1(x)))\n",
        "        x = self.maxpool(x)\n",
        "        x = self.layer1(x)\n",
        "        x = self.layer2(x)\n",
        "        x = self.layer3(x)\n",
        "        x = self.layer4(x)\n",
        "        x = self.avgpool(x)\n",
        "        x = x.view(x.size(0), -1)\n",
        "        out = self.fc(x)\n",
        "\n",
        "        return out\n",
        "\n",
        "def weights_init(m):\n",
        "    classname = m.__class__.__name__\n",
        "    if classname.find('Conv') != -1:\n",
        "        torch.nn.init.xavier_uniform_(m.weight)\n",
        "    elif classname.find('Linear') != -1:\n",
        "        torch.nn.init.xavier_uniform_(m.weight)\n",
        "    elif classname.find('BatchNorm') != -1:\n",
        "        m.weight.data.normal_(1.0, 0.01)\n",
        "\n",
        "# calculate test accuracy\n",
        "def test_accuracy(data_iter, netG):\n",
        "    \"\"\"Evaluate testset accuracy of a model.\"\"\"\n",
        "    acc_sum,n = 0,0\n",
        "    for (imgs, labels) in data_iter:\n",
        "        # send data to the GPU if cuda is availabel\n",
        "        if torch.cuda.is_available():\n",
        "            imgs = imgs.cuda()\n",
        "            labels = labels.cuda()\n",
        "        netG.eval()\n",
        "        with torch.no_grad():\n",
        "            labels = labels.long()\n",
        "            print(imgs.shape)\n",
        "            acc_sum += torch.sum((torch.argmax(netG(imgs), dim=1) == labels)).float()\n",
        "            n += labels.shape[0]\n",
        "    return acc_sum.item()/n"
      ],
      "execution_count": null,
      "outputs": []
    },
    {
      "cell_type": "code",
      "source": [
        "torch.save(netG.state_dict(), 'resnet.pt')"
      ],
      "metadata": {
        "id": "l02zdl_uDkz0"
      },
      "execution_count": null,
      "outputs": []
    }
  ]
}